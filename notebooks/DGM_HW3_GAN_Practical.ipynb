{
 "cells": [
  {
   "cell_type": "code",
   "execution_count": null,
   "id": "8e44bfa4",
   "metadata": {},
   "outputs": [],
   "source": [
    "(STUB - original notebook moved)"
   ]
  }
 ],
 "metadata": {
  "language_info": {
   "name": "python"
  }
 },
 "nbformat": 4,
 "nbformat_minor": 5
}
